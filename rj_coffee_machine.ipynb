{
 "cells": [
  {
   "cell_type": "code",
   "execution_count": 3,
   "metadata": {},
   "outputs": [
    {
     "name": "stdout",
     "output_type": "stream",
     "text": [
      "hello world\n",
      "144\n"
     ]
    }
   ],
   "source": [
    "print(\"hello world\")\n",
    "print(12*12)"
   ]
  },
  {
   "cell_type": "markdown",
   "metadata": {},
   "source": [
    "# Here are some notes\n"
   ]
  },
  {
   "cell_type": "code",
   "execution_count": 16,
   "metadata": {},
   "outputs": [
    {
     "name": "stdout",
     "output_type": "stream",
     "text": [
      "Unable to make coffee\n",
      "Nespresso\n",
      "\n",
      "1000\n"
     ]
    }
   ],
   "source": [
    "# Code\n",
    "class CoffeeMachine():\n",
    "    def __init__(self, model, water):\n",
    "        self.model= model\n",
    "        self.pod = \"\"\n",
    "        self.water = water # ml\n",
    "\n",
    "    def brew(self):\n",
    "        if self.pod and self.water > 150:\n",
    "            print(\"Made coffee!\")\n",
    "            self.water -= 150\n",
    "            return Coffee(self.pod)\n",
    "            \n",
    "        else:   \n",
    "            return (\"Unable to make coffee\")\n",
    "\n",
    "    def add_pod (self, pod):\n",
    "        self.pod = pod\n",
    "\n",
    "coffee_machine = CoffeeMachine('Nespresso', 1000)\n",
    "coffee_machine.add_pod= \"Vanilla Latte\"\n",
    "coffee = coffee_machine.brew()\n",
    "print(coffee)\n",
    "\n",
    "print (coffee_machine.model)\n",
    "print (coffee_machine.pod)\n",
    "print (coffee_machine.water)\n",
    "\n",
    "\n",
    "class Coffee():\n",
    "    def __init__(self,type):\n",
    "        self.type = type\n"
   ]
  }
 ],
 "metadata": {
  "kernelspec": {
   "display_name": "Python 3",
   "language": "python",
   "name": "python3"
  },
  "language_info": {
   "codemirror_mode": {
    "name": "ipython",
    "version": 3
   },
   "file_extension": ".py",
   "mimetype": "text/x-python",
   "name": "python",
   "nbconvert_exporter": "python",
   "pygments_lexer": "ipython3",
   "version": "3.11.2"
  }
 },
 "nbformat": 4,
 "nbformat_minor": 2
}
